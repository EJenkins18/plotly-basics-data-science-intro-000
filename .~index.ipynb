{
 "cells": [
  {
   "cell_type": "markdown",
   "metadata": {},
   "source": [
    "# Going deeper with Plotly"
   ]
  },
  {
   "cell_type": "markdown",
   "metadata": {},
   "source": [
    "### Learning Objectives"
   ]
  },
  {
   "cell_type": "markdown",
   "metadata": {},
   "source": [
    "* Understand the iplot method\n",
    "* Understand how to create different traces/plots like a scatter plot, or a line plot\n",
    "* Understand how to have a chart with multiple traces"
   ]
  },
  {
   "cell_type": "markdown",
   "metadata": {},
   "source": [
    "### Introduction"
   ]
  },
  {
   "cell_type": "markdown",
   "metadata": {},
   "source": [
    "As you've seen in recent lessons, data science leans on data visualizations to draw inferences about our data, and to make sense of the math we use in making sense of this data.  We saw how plotting data with a bar chart can be used to show the relationship between $x$ and $y$ variables.  \n",
    "\n",
    "In this lesson, we'll explore more of the functionality of the Plotly library.  As we do so, pay careful attention to the data type that our methods require: whether they are dictionaries or lists, or lists of dictionaries.  Ok, let's go!"
   ]
  },
  {
   "cell_type": "markdown",
   "metadata": {},
   "source": [
    "### Drawing a line"
   ]
  },
  {
   "cell_type": "markdown",
   "metadata": {},
   "source": [
    "As you know, to get started with Plotly, we first install the library on our computer.  Let's do so in Jupyter by executing the cell below."
   ]
  },
  {
   "cell_type": "code",
   "execution_count": 1,
   "metadata": {},
   "outputs": [
    {
     "name": "stdout",
     "output_type": "stream",
     "text": [
      "Requirement already satisfied: plotly in /opt/conda/lib/python3.6/site-packages (3.1.1)\n",
      "Requirement already satisfied: decorator>=4.0.6 in /opt/conda/lib/python3.6/site-packages (from plotly) (4.3.0)\n",
      "Requirement already satisfied: nbformat>=4.2 in /opt/conda/lib/python3.6/site-packages (from plotly) (4.4.0)\n",
      "Requirement already satisfied: pytz in /opt/conda/lib/python3.6/site-packages (from plotly) (2018.5)\n",
      "Requirement already satisfied: requests in /opt/conda/lib/python3.6/site-packages (from plotly) (2.18.4)\n",
      "Requirement already satisfied: retrying>=1.3.3 in /opt/conda/lib/python3.6/site-packages (from plotly) (1.3.3)\n",
      "Requirement already satisfied: six in /opt/conda/lib/python3.6/site-packages (from plotly) (1.11.0)\n",
      "Requirement already satisfied: ipython_genutils in /opt/conda/lib/python3.6/site-packages (from nbformat>=4.2->plotly) (0.2.0)\n",
      "Requirement already satisfied: traitlets>=4.1 in /opt/conda/lib/python3.6/site-packages (from nbformat>=4.2->plotly) (4.3.2)\n",
      "Requirement already satisfied: jsonschema!=2.5.0,>=2.4 in /opt/conda/lib/python3.6/site-packages (from nbformat>=4.2->plotly) (2.6.0)\n",
      "Requirement already satisfied: jupyter_core in /opt/conda/lib/python3.6/site-packages (from nbformat>=4.2->plotly) (4.4.0)\n",
      "Requirement already satisfied: chardet<3.1.0,>=3.0.2 in /opt/conda/lib/python3.6/site-packages (from requests->plotly) (3.0.4)\n",
      "Requirement already satisfied: idna<2.7,>=2.5 in /opt/conda/lib/python3.6/site-packages (from requests->plotly) (2.6)\n",
      "Requirement already satisfied: urllib3<1.23,>=1.21.1 in /opt/conda/lib/python3.6/site-packages (from requests->plotly) (1.22)\n",
      "Requirement already satisfied: certifi>=2017.4.17 in /opt/conda/lib/python3.6/site-packages (from requests->plotly) (2018.8.24)\n"
     ]
    }
   ],
   "source": [
    "!pip install plotly"
   ]
  },
  {
   "cell_type": "markdown",
   "metadata": {},
   "source": [
    "If plotly is already on your computer, pip will tell you that the requirement is already satisfied.  That's ok, we can happily proceed."
   ]
  },
  {
   "cell_type": "markdown",
   "metadata": {},
   "source": [
    "The next step is to import the plotly library. "
   ]
  },
  {
   "cell_type": "code",
   "execution_count": 2,
   "metadata": {},
   "outputs": [
    {
     "data": {
      "text/html": [
       "<script>requirejs.config({paths: { 'plotly': ['https://cdn.plot.ly/plotly-latest.min']},});if(!window.Plotly) {{require(['plotly'],function(plotly) {window.Plotly=plotly;});}}</script>"
      ],
      "text/vnd.plotly.v1+html": [
       "<script>requirejs.config({paths: { 'plotly': ['https://cdn.plot.ly/plotly-latest.min']},});if(!window.Plotly) {{require(['plotly'],function(plotly) {window.Plotly=plotly;});}}</script>"
      ]
     },
     "metadata": {},
     "output_type": "display_data"
    }
   ],
   "source": [
    "import plotly\n",
    "from plotly.offline import iplot, init_notebook_mode\n",
    "init_notebook_mode(connected=True)"
   ]
  },
  {
   "cell_type": "markdown",
   "metadata": {},
   "source": [
    "If we plot offline, we do not need to provide a login.  So we plot offline, while plotting our first plot with the below line."
   ]
  },
  {
   "cell_type": "code",
   "execution_count": 3,
   "metadata": {},
   "outputs": [
    {
     "data": {
      "application/vnd.plotly.v1+json": {
       "data": [
        {
         "type": "scatter",
         "uid": "29e02348-c733-11e8-9561-0242ac110080"
        }
       ],
       "layout": {}
      },
      "text/html": [
       "<div id=\"83579b41-598b-4cc4-8716-70a6254596b5\" style=\"height: 525px; width: 100%;\" class=\"plotly-graph-div\"></div><script type=\"text/javascript\">require([\"plotly\"], function(Plotly) { window.PLOTLYENV=window.PLOTLYENV || {};window.PLOTLYENV.BASE_URL=\"https://plot.ly\";Plotly.newPlot(\"83579b41-598b-4cc4-8716-70a6254596b5\", [{\"type\": \"scatter\", \"uid\": \"2a27d166-c733-11e8-9561-0242ac110080\"}], {}, {\"showLink\": true, \"linkText\": \"Export to plot.ly\"})});</script>"
      ],
      "text/vnd.plotly.v1+html": [
       "<div id=\"83579b41-598b-4cc4-8716-70a6254596b5\" style=\"height: 525px; width: 100%;\" class=\"plotly-graph-div\"></div><script type=\"text/javascript\">require([\"plotly\"], function(Plotly) { window.PLOTLYENV=window.PLOTLYENV || {};window.PLOTLYENV.BASE_URL=\"https://plot.ly\";Plotly.newPlot(\"83579b41-598b-4cc4-8716-70a6254596b5\", [{\"type\": \"scatter\", \"uid\": \"2a27d166-c733-11e8-9561-0242ac110080\"}], {}, {\"showLink\": true, \"linkText\": \"Export to plot.ly\"})});</script>"
      ]
     },
     "metadata": {},
     "output_type": "display_data"
    }
   ],
   "source": [
    "plotly.offline.iplot([\n",
    "    {}\n",
    "])"
   ]
  },
  {
   "cell_type": "markdown",
   "metadata": {},
   "source": [
    "Let's take another look at that line of code.\n",
    "```python\n",
    "plotly.offline.iplot([\n",
    "    {}\n",
    "])\n",
    "```\n",
    "\n",
    "We reference the `plotly` library, which we imported above.  Then we pass a list containing a dictionary to the `iplot` method.  That dictionary can represent a scatter trace, a line trace, or other types of traces.  \n",
    "\n",
    "We pass the trace into a list because we can have more than one trace in the same graph - for example two bar traces displayed side by side or a scatter trace underneath a line trace.  "
   ]
  },
  {
   "cell_type": "markdown",
   "metadata": {},
   "source": [
    "Now let's discuss how a trace represents data.  In the `trace` in the code below, we plot four points.  Notice that we provide the $x$ and $y$ coordinates in two separate attributes of the dictionary.  Change around the data to get a feel for how it works."
   ]
  },
  {
   "cell_type": "code",
   "execution_count": 4,
   "metadata": {},
   "outputs": [
    {
     "data": {
      "application/vnd.plotly.v1+json": {
       "data": [
        {
         "type": "scatter",
         "uid": "4307a8e6-c733-11e8-9561-0242ac110080",
         "x": [
          1,
          2,
          3,
          4
         ],
         "y": [
          1,
          2,
          3,
          4
         ]
        }
       ],
       "layout": {}
      },
      "text/html": [
       "<div id=\"f796c76c-efc1-4abe-9ef3-5877fa464d18\" style=\"height: 525px; width: 100%;\" class=\"plotly-graph-div\"></div><script type=\"text/javascript\">require([\"plotly\"], function(Plotly) { window.PLOTLYENV=window.PLOTLYENV || {};window.PLOTLYENV.BASE_URL=\"https://plot.ly\";Plotly.newPlot(\"f796c76c-efc1-4abe-9ef3-5877fa464d18\", [{\"x\": [1, 2, 3, 4], \"y\": [1, 2, 3, 4], \"type\": \"scatter\", \"uid\": \"43101a1c-c733-11e8-9561-0242ac110080\"}], {}, {\"showLink\": true, \"linkText\": \"Export to plot.ly\"})});</script>"
      ],
      "text/vnd.plotly.v1+html": [
       "<div id=\"f796c76c-efc1-4abe-9ef3-5877fa464d18\" style=\"height: 525px; width: 100%;\" class=\"plotly-graph-div\"></div><script type=\"text/javascript\">require([\"plotly\"], function(Plotly) { window.PLOTLYENV=window.PLOTLYENV || {};window.PLOTLYENV.BASE_URL=\"https://plot.ly\";Plotly.newPlot(\"f796c76c-efc1-4abe-9ef3-5877fa464d18\", [{\"x\": [1, 2, 3, 4], \"y\": [1, 2, 3, 4], \"type\": \"scatter\", \"uid\": \"43101a1c-c733-11e8-9561-0242ac110080\"}], {}, {\"showLink\": true, \"linkText\": \"Export to plot.ly\"})});</script>"
      ]
     },
     "metadata": {},
     "output_type": "display_data"
    }
   ],
   "source": [
    "trace = {'x': [1, 2, 3, 4], 'y': [1, 2, 3, 4]}\n",
    "\n",
    "plotly.offline.iplot([\n",
    "    trace\n",
    "])"
   ]
  },
  {
   "cell_type": "markdown",
   "metadata": {},
   "source": [
    "The plot above has one trace which is a line trace.  However, this type of trace is just the default.  Note, that we did not specify any particular type.\n",
    "\n",
    "```python\n",
    "trace = {'x': [1, 2, 3, 4], 'y': [1, 2, 3, 4]}\n",
    "```\n",
    "\n",
    "We can change it by changing the mode to `markers`.  While we are at it, let's also change the color of the markers.  "
   ]
  },
  {
   "cell_type": "code",
   "execution_count": 5,
   "metadata": {},
   "outputs": [
    {
     "data": {
      "application/vnd.plotly.v1+json": {
       "data": [
        {
         "marker": {
          "color": "rgba(255, 182, 193, .9)"
         },
         "mode": "markers",
         "type": "scatter",
         "uid": "4f0f157a-c733-11e8-9561-0242ac110080",
         "x": [
          1,
          2,
          3,
          4
         ],
         "y": [
          1,
          2,
          3,
          4
         ]
        }
       ],
       "layout": {}
      },
      "text/html": [
       "<div id=\"e9f85f93-a74c-4ce9-ad4d-5409641b1f66\" style=\"height: 525px; width: 100%;\" class=\"plotly-graph-div\"></div><script type=\"text/javascript\">require([\"plotly\"], function(Plotly) { window.PLOTLYENV=window.PLOTLYENV || {};window.PLOTLYENV.BASE_URL=\"https://plot.ly\";Plotly.newPlot(\"e9f85f93-a74c-4ce9-ad4d-5409641b1f66\", [{\"marker\": {\"color\": \"rgba(255, 182, 193, .9)\"}, \"mode\": \"markers\", \"x\": [1, 2, 3, 4], \"y\": [1, 2, 3, 4], \"type\": \"scatter\", \"uid\": \"4f18388a-c733-11e8-9561-0242ac110080\"}], {}, {\"showLink\": true, \"linkText\": \"Export to plot.ly\"})});</script>"
      ],
      "text/vnd.plotly.v1+html": [
       "<div id=\"e9f85f93-a74c-4ce9-ad4d-5409641b1f66\" style=\"height: 525px; width: 100%;\" class=\"plotly-graph-div\"></div><script type=\"text/javascript\">require([\"plotly\"], function(Plotly) { window.PLOTLYENV=window.PLOTLYENV || {};window.PLOTLYENV.BASE_URL=\"https://plot.ly\";Plotly.newPlot(\"e9f85f93-a74c-4ce9-ad4d-5409641b1f66\", [{\"marker\": {\"color\": \"rgba(255, 182, 193, .9)\"}, \"mode\": \"markers\", \"x\": [1, 2, 3, 4], \"y\": [1, 2, 3, 4], \"type\": \"scatter\", \"uid\": \"4f18388a-c733-11e8-9561-0242ac110080\"}], {}, {\"showLink\": true, \"linkText\": \"Export to plot.ly\"})});</script>"
      ]
     },
     "metadata": {},
     "output_type": "display_data"
    }
   ],
   "source": [
    "trace = {'x': [1, 2, 3, 4], 'y': [1, 2, 3, 4], 'mode': 'markers', 'marker': {'color': 'rgba(255, 182, 193, .9)'}}\n",
    "\n",
    "plotly.offline.iplot([\n",
    "    trace\n",
    "])"
   ]
  },
  {
   "cell_type": "markdown",
   "metadata": {},
   "source": [
    "Cool!  So we changed the code to markers and changed the colors of those markers by setting the rgb (red, green, blue) value.\n",
    "\n",
    "```python\n",
    "trace = {'x': [1, 2, 3, 4], 'y': [1, 2, 3, 4], 'mode': 'markers', 'marker': {'color': 'rgba(255, 182, 193, .9)'}}\n",
    "```"
   ]
  },
  {
   "cell_type": "markdown",
   "metadata": {},
   "source": [
    "Now let's add more than one trace to a given graph.  We'll keep the first trace largely the same by using the same data, and color of markers.  We'll name our trace 'Some dots'  by adding the name attribute and set it equal to the corresponding string."
   ]
  },
  {
   "cell_type": "code",
   "execution_count": 6,
   "metadata": {},
   "outputs": [],
   "source": [
    "trace0 = {'x': [1, 2, 3, 4], 'y': [1, 2, 3, 4], \n",
    "          'mode': 'markers', 'marker': {'color': 'rgba(255, 182, 193, .9)'}, \n",
    "          'name': 'Some dots'}"
   ]
  },
  {
   "cell_type": "markdown",
   "metadata": {},
   "source": [
    "In the second trace, we have some new data, and set the color as blue.  Because we did not specify a mode, it defaults to connecting the points as a line.  And we name our trace as \"Our nice line\".   "
   ]
  },
  {
   "cell_type": "code",
   "execution_count": 7,
   "metadata": {},
   "outputs": [],
   "source": [
    "trace1 = {'x': [1.5, 2.5, 3.5, 4.5], 'y': [3, 5, 7, 9], \n",
    "          'marker': {'color': 'blue'},\n",
    "          'name': 'Our nice line'}"
   ]
  },
  {
   "cell_type": "markdown",
   "metadata": {},
   "source": [
    "Finally, we create a plot of the two traces.  "
   ]
  },
  {
   "cell_type": "code",
   "execution_count": 8,
   "metadata": {},
   "outputs": [
    {
     "data": {
      "application/vnd.plotly.v1+json": {
       "data": [
        {
         "marker": {
          "color": "rgba(255, 182, 193, .9)"
         },
         "mode": "markers",
         "name": "Some dots",
         "type": "scatter",
         "uid": "80ab778e-c735-11e8-9561-0242ac110080",
         "x": [
          1,
          2,
          3,
          4
         ],
         "y": [
          1,
          2,
          3,
          4
         ]
        },
        {
         "marker": {
          "color": "blue"
         },
         "name": "Our nice line",
         "type": "scatter",
         "uid": "80ab7cf2-c735-11e8-9561-0242ac110080",
         "x": [
          1.5,
          2.5,
          3.5,
          4.5
         ],
         "y": [
          3,
          5,
          7,
          9
         ]
        }
       ],
       "layout": {}
      },
      "text/html": [
       "<div id=\"a9fbcd14-e4ff-4025-8c16-0f1334d3f4ee\" style=\"height: 525px; width: 100%;\" class=\"plotly-graph-div\"></div><script type=\"text/javascript\">require([\"plotly\"], function(Plotly) { window.PLOTLYENV=window.PLOTLYENV || {};window.PLOTLYENV.BASE_URL=\"https://plot.ly\";Plotly.newPlot(\"a9fbcd14-e4ff-4025-8c16-0f1334d3f4ee\", [{\"marker\": {\"color\": \"rgba(255, 182, 193, .9)\"}, \"mode\": \"markers\", \"name\": \"Some dots\", \"x\": [1, 2, 3, 4], \"y\": [1, 2, 3, 4], \"type\": \"scatter\", \"uid\": \"80c13dd0-c735-11e8-9561-0242ac110080\"}, {\"marker\": {\"color\": \"blue\"}, \"name\": \"Our nice line\", \"x\": [1.5, 2.5, 3.5, 4.5], \"y\": [3, 5, 7, 9], \"type\": \"scatter\", \"uid\": \"80c1433e-c735-11e8-9561-0242ac110080\"}], {}, {\"showLink\": true, \"linkText\": \"Export to plot.ly\"})});</script>"
      ],
      "text/vnd.plotly.v1+html": [
       "<div id=\"a9fbcd14-e4ff-4025-8c16-0f1334d3f4ee\" style=\"height: 525px; width: 100%;\" class=\"plotly-graph-div\"></div><script type=\"text/javascript\">require([\"plotly\"], function(Plotly) { window.PLOTLYENV=window.PLOTLYENV || {};window.PLOTLYENV.BASE_URL=\"https://plot.ly\";Plotly.newPlot(\"a9fbcd14-e4ff-4025-8c16-0f1334d3f4ee\", [{\"marker\": {\"color\": \"rgba(255, 182, 193, .9)\"}, \"mode\": \"markers\", \"name\": \"Some dots\", \"x\": [1, 2, 3, 4], \"y\": [1, 2, 3, 4], \"type\": \"scatter\", \"uid\": \"80c13dd0-c735-11e8-9561-0242ac110080\"}, {\"marker\": {\"color\": \"blue\"}, \"name\": \"Our nice line\", \"x\": [1.5, 2.5, 3.5, 4.5], \"y\": [3, 5, 7, 9], \"type\": \"scatter\", \"uid\": \"80c1433e-c735-11e8-9561-0242ac110080\"}], {}, {\"showLink\": true, \"linkText\": \"Export to plot.ly\"})});</script>"
      ]
     },
     "metadata": {},
     "output_type": "display_data"
    }
   ],
   "source": [
    "plotly.offline.iplot([\n",
    "    trace0, trace1\n",
    "])"
   ]
  },
  {
   "cell_type": "markdown",
   "metadata": {},
   "source": [
    "### Working with types"
   ]
  },
  {
   "cell_type": "markdown",
   "metadata": {},
   "source": [
    "So far, we have only worked with either scatter charts or line charts.  The two charts are really quite similar -- connecting lines versus no connecting lines  -- and plotly treats them as such.  However, there are other ways of viewing the world beyond dots and lines.  Now let's see how.\n",
    "\n",
    "For example, we can make a bar chart, simply by specifying the in our dictionary that the `type` is `bar` for a `bar` trace."
   ]
  },
  {
   "cell_type": "code",
   "execution_count": 9,
   "metadata": {},
   "outputs": [
    {
     "data": {
      "application/vnd.plotly.v1+json": {
       "data": [
        {
         "marker": {
          "color": "blue"
         },
         "name": "Our nice bar trace",
         "type": "bar",
         "uid": "98c6b8d8-c735-11e8-9561-0242ac110080",
         "x": [
          "bobby",
          "susan",
          "eli",
          "malcolm"
         ],
         "y": [
          3,
          5,
          7,
          9
         ]
        }
       ],
       "layout": {}
      },
      "text/html": [
       "<div id=\"7e1b9ff3-5784-469d-bd93-5bb9fd63fd33\" style=\"height: 525px; width: 100%;\" class=\"plotly-graph-div\"></div><script type=\"text/javascript\">require([\"plotly\"], function(Plotly) { window.PLOTLYENV=window.PLOTLYENV || {};window.PLOTLYENV.BASE_URL=\"https://plot.ly\";Plotly.newPlot(\"7e1b9ff3-5784-469d-bd93-5bb9fd63fd33\", [{\"marker\": {\"color\": \"blue\"}, \"name\": \"Our nice bar trace\", \"x\": [\"bobby\", \"susan\", \"eli\", \"malcolm\"], \"y\": [3, 5, 7, 9], \"type\": \"bar\", \"uid\": \"98cfc612-c735-11e8-9561-0242ac110080\"}], {}, {\"showLink\": true, \"linkText\": \"Export to plot.ly\"})});</script>"
      ],
      "text/vnd.plotly.v1+html": [
       "<div id=\"7e1b9ff3-5784-469d-bd93-5bb9fd63fd33\" style=\"height: 525px; width: 100%;\" class=\"plotly-graph-div\"></div><script type=\"text/javascript\">require([\"plotly\"], function(Plotly) { window.PLOTLYENV=window.PLOTLYENV || {};window.PLOTLYENV.BASE_URL=\"https://plot.ly\";Plotly.newPlot(\"7e1b9ff3-5784-469d-bd93-5bb9fd63fd33\", [{\"marker\": {\"color\": \"blue\"}, \"name\": \"Our nice bar trace\", \"x\": [\"bobby\", \"susan\", \"eli\", \"malcolm\"], \"y\": [3, 5, 7, 9], \"type\": \"bar\", \"uid\": \"98cfc612-c735-11e8-9561-0242ac110080\"}], {}, {\"showLink\": true, \"linkText\": \"Export to plot.ly\"})});</script>"
      ]
     },
     "metadata": {},
     "output_type": "display_data"
    }
   ],
   "source": [
    "bar_trace = {'type': 'bar', 'x': ['bobby', 'susan', 'eli', 'malcolm'], 'y': [3, 5, 7, 9], 'marker': {'color': 'blue'}, 'name': 'Our nice bar trace'}\n",
    "\n",
    "plotly.offline.iplot([\n",
    "    bar_trace\n",
    "])"
   ]
  },
  {
   "cell_type": "markdown",
   "metadata": {},
   "source": [
    "Another way to create a bar chart is to use the constructor provided by plotly.  It's not too tricky to do so.  First, we import our `graph_objs` library from Plotly.  And then we call the bar chart constructor. "
   ]
  },
  {
   "cell_type": "code",
   "execution_count": 10,
   "metadata": {},
   "outputs": [
    {
     "data": {
      "text/plain": [
       "Bar({\n",
       "    'x': ['bobby', 'susan', 'eli', 'malcolm'], 'y': [3, 5, 7, 9]\n",
       "})"
      ]
     },
     "execution_count": 10,
     "metadata": {},
     "output_type": "execute_result"
    }
   ],
   "source": [
    "from plotly import graph_objs \n",
    "\n",
    "bar_trace_via_constructor = graph_objs.Bar(\n",
    "            x=['bobby', 'susan', 'eli', 'malcolm'],\n",
    "            y=[3, 5, 7, 9]\n",
    "    )\n",
    "\n",
    "bar_trace_via_constructor"
   ]
  },
  {
   "cell_type": "markdown",
   "metadata": {},
   "source": [
    "We refer to the function `graph_objs.Bar` as a constructor because it literally constructs python dictionaries with a key of `type` that equals `bar`.  Then, we can pass this dictionary to our `iplot` method to display our bar chart."
   ]
  },
  {
   "cell_type": "code",
   "execution_count": 11,
   "metadata": {},
   "outputs": [
    {
     "data": {
      "application/vnd.plotly.v1+json": {
       "data": [
        {
         "type": "bar",
         "uid": "ada75ba4-c735-11e8-9561-0242ac110080",
         "x": [
          "bobby",
          "susan",
          "eli",
          "malcolm"
         ],
         "y": [
          3,
          5,
          7,
          9
         ]
        }
       ],
       "layout": {}
      },
      "text/html": [
       "<div id=\"cdf7d397-a6ff-4a43-9662-162bc0ca1f59\" style=\"height: 525px; width: 100%;\" class=\"plotly-graph-div\"></div><script type=\"text/javascript\">require([\"plotly\"], function(Plotly) { window.PLOTLYENV=window.PLOTLYENV || {};window.PLOTLYENV.BASE_URL=\"https://plot.ly\";Plotly.newPlot(\"cdf7d397-a6ff-4a43-9662-162bc0ca1f59\", [{\"x\": [\"bobby\", \"susan\", \"eli\", \"malcolm\"], \"y\": [3, 5, 7, 9], \"type\": \"bar\", \"uid\": \"adaf3d74-c735-11e8-9561-0242ac110080\"}], {}, {\"showLink\": true, \"linkText\": \"Export to plot.ly\"})});</script>"
      ],
      "text/vnd.plotly.v1+html": [
       "<div id=\"cdf7d397-a6ff-4a43-9662-162bc0ca1f59\" style=\"height: 525px; width: 100%;\" class=\"plotly-graph-div\"></div><script type=\"text/javascript\">require([\"plotly\"], function(Plotly) { window.PLOTLYENV=window.PLOTLYENV || {};window.PLOTLYENV.BASE_URL=\"https://plot.ly\";Plotly.newPlot(\"cdf7d397-a6ff-4a43-9662-162bc0ca1f59\", [{\"x\": [\"bobby\", \"susan\", \"eli\", \"malcolm\"], \"y\": [3, 5, 7, 9], \"type\": \"bar\", \"uid\": \"adaf3d74-c735-11e8-9561-0242ac110080\"}], {}, {\"showLink\": true, \"linkText\": \"Export to plot.ly\"})});</script>"
      ]
     },
     "metadata": {},
     "output_type": "display_data"
    }
   ],
   "source": [
    "bar_trace_via_constructor = graph_objs.Bar(\n",
    "            x=['bobby', 'susan', 'eli', 'malcolm'],\n",
    "            y=[3, 5, 7, 9]\n",
    "    )\n",
    "\n",
    "\n",
    "plotly.offline.iplot([\n",
    "    bar_trace_via_constructor\n",
    "])"
   ]
  },
  {
   "cell_type": "markdown",
   "metadata": {},
   "source": [
    "Now let's look at some constructors for make other traces.  "
   ]
  },
  {
   "cell_type": "code",
   "execution_count": 12,
   "metadata": {},
   "outputs": [
    {
     "data": {
      "text/plain": [
       "Scatter()"
      ]
     },
     "execution_count": 12,
     "metadata": {},
     "output_type": "execute_result"
    }
   ],
   "source": [
    "graph_objs.Scatter()"
   ]
  },
  {
   "cell_type": "code",
   "execution_count": 13,
   "metadata": {},
   "outputs": [
    {
     "data": {
      "text/plain": [
       "Pie()"
      ]
     },
     "execution_count": 13,
     "metadata": {},
     "output_type": "execute_result"
    }
   ],
   "source": [
    "graph_objs.Pie()"
   ]
  },
  {
   "cell_type": "markdown",
   "metadata": {},
   "source": [
    "And of course, we can always use the dictionary constructor to create our dictionaries."
   ]
  },
  {
   "cell_type": "code",
   "execution_count": 14,
   "metadata": {},
   "outputs": [
    {
     "data": {
      "application/vnd.plotly.v1+json": {
       "data": [
        {
         "labels": [
          "chocolate",
          "vanilla",
          "strawberry"
         ],
         "type": "pie",
         "uid": "ba26d1f2-c735-11e8-9561-0242ac110080",
         "values": [
          10,
          5,
          15
         ]
        }
       ],
       "layout": {}
      },
      "text/html": [
       "<div id=\"630767e2-1766-480b-9ff0-5c6db6453c81\" style=\"height: 525px; width: 100%;\" class=\"plotly-graph-div\"></div><script type=\"text/javascript\">require([\"plotly\"], function(Plotly) { window.PLOTLYENV=window.PLOTLYENV || {};window.PLOTLYENV.BASE_URL=\"https://plot.ly\";Plotly.newPlot(\"630767e2-1766-480b-9ff0-5c6db6453c81\", [{\"labels\": [\"chocolate\", \"vanilla\", \"strawberry\"], \"values\": [10, 5, 15], \"type\": \"pie\", \"uid\": \"ba30778e-c735-11e8-9561-0242ac110080\"}], {}, {\"showLink\": true, \"linkText\": \"Export to plot.ly\"})});</script>"
      ],
      "text/vnd.plotly.v1+html": [
       "<div id=\"630767e2-1766-480b-9ff0-5c6db6453c81\" style=\"height: 525px; width: 100%;\" class=\"plotly-graph-div\"></div><script type=\"text/javascript\">require([\"plotly\"], function(Plotly) { window.PLOTLYENV=window.PLOTLYENV || {};window.PLOTLYENV.BASE_URL=\"https://plot.ly\";Plotly.newPlot(\"630767e2-1766-480b-9ff0-5c6db6453c81\", [{\"labels\": [\"chocolate\", \"vanilla\", \"strawberry\"], \"values\": [10, 5, 15], \"type\": \"pie\", \"uid\": \"ba30778e-c735-11e8-9561-0242ac110080\"}], {}, {\"showLink\": true, \"linkText\": \"Export to plot.ly\"})});</script>"
      ]
     },
     "metadata": {},
     "output_type": "display_data"
    }
   ],
   "source": [
    "pie_trace = dict(type=\"pie\", labels=[\"chocolate\", \"vanilla\", \"strawberry\"], values=[10, 5, 15])\n",
    "\n",
    "plotly.offline.iplot([\n",
    "    pie_trace\n",
    "])"
   ]
  },
  {
   "cell_type": "markdown",
   "metadata": {},
   "source": [
    "### Modifying a Chart Layout"
   ]
  },
  {
   "cell_type": "markdown",
   "metadata": {},
   "source": [
    "So far we have seen how to specify attributes of traces or charts, which display our data.  Now let's see how to modify the overall layout in our chart.\n",
    "\n",
    "Note that the format of our traces will not change."
   ]
  },
  {
   "cell_type": "code",
   "execution_count": 15,
   "metadata": {},
   "outputs": [],
   "source": [
    "trace_of_data = {'x': [1.5, 2.5, 3.5, 4.5], 'y': [3, 5, 7, 9], \n",
    "                 'marker': {'color': 'blue'},\n",
    "                 'name': 'Our nice line'}"
   ]
  },
  {
   "cell_type": "markdown",
   "metadata": {},
   "source": [
    "However, instead of passing to our `iplot` function a list of traces, we pass our `iplot` function a dictionary with a `data` key, which has a value of a list of traces.  The `layout` key points to a dictionary representing our layout."
   ]
  },
  {
   "cell_type": "code",
   "execution_count": 17,
   "metadata": {},
   "outputs": [
    {
     "ename": "ValueError",
     "evalue": "\n    Invalid value of type 'builtins.range' received for the 'xaxis' property of layout\n        Received value: range(0, 12)\n\n    The 'xaxis' property is an instance of XAxis\n    that may be specified as:\n      - An instance of plotly.graph_objs.layout.XAxis\n      - A dict of string/value properties that will be passed\n        to the XAxis constructor\n\n        Supported dict properties:\n            \n            anchor\n                If set to an opposite-letter axis id (e.g.\n                `x2`, `y`), this axis is bound to the\n                corresponding opposite-letter axis. If set to\n                *free*, this axis' position is determined by\n                `position`.\n            automargin\n                Determines whether long tick labels\n                automatically grow the figure margins.\n            autorange\n                Determines whether or not the range of this\n                axis is computed in relation to the input data.\n                See `rangemode` for more info. If `range` is\n                provided, then `autorange` is set to *false*.\n            calendar\n                Sets the calendar system to use for `range` and\n                `tick0` if this is a date axis. This does not\n                set the calendar for interpreting data on this\n                axis, that's specified in the trace or via the\n                global `layout.calendar`\n            categoryarray\n                Sets the order in which categories on this axis\n                appear. Only has an effect if `categoryorder`\n                is set to *array*. Used with `categoryorder`.\n            categoryarraysrc\n                Sets the source reference on plot.ly for\n                categoryarray .\n            categoryorder\n                Specifies the ordering logic for the case of\n                categorical variables. By default, plotly uses\n                *trace*, which specifies the order that is\n                present in the data supplied. Set\n                `categoryorder` to *category ascending* or\n                *category descending* if order should be\n                determined by the alphanumerical order of the\n                category names. Set `categoryorder` to *array*\n                to derive the ordering from the attribute\n                `categoryarray`. If a category is not found in\n                the `categoryarray` array, the sorting behavior\n                for that attribute will be identical to the\n                *trace* mode. The unspecified categories will\n                follow the categories in `categoryarray`.\n            color\n                Sets default for all colors associated with\n                this axis all at once: line, font, tick, and\n                grid colors. Grid color is lightened by\n                blending this with the plot background\n                Individual pieces can override this.\n            constrain\n                If this axis needs to be compressed (either due\n                to its own `scaleanchor` and `scaleratio` or\n                those of the other axis), determines how that\n                happens: by increasing the *range* (default),\n                or by decreasing the *domain*.\n            constraintoward\n                If this axis needs to be compressed (either due\n                to its own `scaleanchor` and `scaleratio` or\n                those of the other axis), determines which\n                direction we push the originally specified plot\n                area. Options are *left*, *center* (default),\n                and *right* for x axes, and *top*, *middle*\n                (default), and *bottom* for y axes.\n            domain\n                Sets the domain of this axis (in plot\n                fraction).\n            dtick\n                Sets the step in-between ticks on this axis.\n                Use with `tick0`. Must be a positive number, or\n                special strings available to *log* and *date*\n                axes. If the axis `type` is *log*, then ticks\n                are set every 10^(n*dtick) where n is the tick\n                number. For example, to set a tick mark at 1,\n                10, 100, 1000, ... set dtick to 1. To set tick\n                marks at 1, 100, 10000, ... set dtick to 2. To\n                set tick marks at 1, 5, 25, 125, 625, 3125, ...\n                set dtick to log_10(5), or 0.69897000433. *log*\n                has several special values; *L<f>*, where `f`\n                is a positive number, gives ticks linearly\n                spaced in value (but not position). For example\n                `tick0` = 0.1, `dtick` = *L0.5* will put ticks\n                at 0.1, 0.6, 1.1, 1.6 etc. To show powers of 10\n                plus small digits between, use *D1* (all\n                digits) or *D2* (only 2 and 5). `tick0` is\n                ignored for *D1* and *D2*. If the axis `type`\n                is *date*, then you must convert the time to\n                milliseconds. For example, to set the interval\n                between ticks to one day, set `dtick` to\n                86400000.0. *date* also has special values\n                *M<n>* gives ticks spaced by a number of\n                months. `n` must be a positive integer. To set\n                ticks on the 15th of every third month, set\n                `tick0` to *2000-01-15* and `dtick` to *M3*. To\n                set ticks every 4 years, set `dtick` to *M48*\n            exponentformat\n                Determines a formatting rule for the tick\n                exponents. For example, consider the number\n                1,000,000,000. If *none*, it appears as\n                1,000,000,000. If *e*, 1e+9. If *E*, 1E+9. If\n                *power*, 1x10^9 (with 9 in a super script). If\n                *SI*, 1G. If *B*, 1B.\n            fixedrange\n                Determines whether or not this axis is zoom-\n                able. If true, then zoom is disabled.\n            gridcolor\n                Sets the color of the grid lines.\n            gridwidth\n                Sets the width (in px) of the grid lines.\n            hoverformat\n                Sets the hover text formatting rule using d3\n                formatting mini-languages which are very\n                similar to those in Python. For numbers, see: h\n                ttps://github.com/d3/d3-format/blob/master/READ\n                ME.md#locale_format And for dates see:\n                https://github.com/d3/d3-time-\n                format/blob/master/README.md#locale_format We\n                add one item to d3's date formatter: *%{n}f*\n                for fractional seconds with n digits. For\n                example, *2016-10-13 09:15:23.456* with\n                tickformat *%H~%M~%S.%2f* would display\n                *09~15~23.46*\n            layer\n                Sets the layer on which this axis is displayed.\n                If *above traces*, this axis is displayed above\n                all the subplot's traces If *below traces*,\n                this axis is displayed below all the subplot's\n                traces, but above the grid lines. Useful when\n                used together with scatter-like traces with\n                `cliponaxis` set to *false* to show markers\n                and/or text nodes above this axis.\n            linecolor\n                Sets the axis line color.\n            linewidth\n                Sets the width (in px) of the axis line.\n            mirror\n                Determines if the axis lines or/and ticks are\n                mirrored to the opposite side of the plotting\n                area. If *true*, the axis lines are mirrored.\n                If *ticks*, the axis lines and ticks are\n                mirrored. If *false*, mirroring is disable. If\n                *all*, axis lines are mirrored on all shared-\n                axes subplots. If *allticks*, axis lines and\n                ticks are mirrored on all shared-axes subplots.\n            nticks\n                Specifies the maximum number of ticks for the\n                particular axis. The actual number of ticks\n                will be chosen automatically to be less than or\n                equal to `nticks`. Has an effect only if\n                `tickmode` is set to *auto*.\n            overlaying\n                If set a same-letter axis id, this axis is\n                overlaid on top of the corresponding same-\n                letter axis. If *false*, this axis does not\n                overlay any same-letter axes.\n            position\n                Sets the position of this axis in the plotting\n                space (in normalized coordinates). Only has an\n                effect if `anchor` is set to *free*.\n            range\n                Sets the range of this axis. If the axis `type`\n                is *log*, then you must take the log of your\n                desired range (e.g. to set the range from 1 to\n                100, set the range from 0 to 2). If the axis\n                `type` is *date*, it should be date strings,\n                like date data, though Date objects and unix\n                milliseconds will be accepted and converted to\n                strings. If the axis `type` is *category*, it\n                should be numbers, using the scale where each\n                category is assigned a serial number from zero\n                in the order it appears.\n            rangemode\n                If *normal*, the range is computed in relation\n                to the extrema of the input data. If *tozero*`,\n                the range extends to 0, regardless of the input\n                data If *nonnegative*, the range is non-\n                negative, regardless of the input data.\n            rangeselector\n                plotly.graph_objs.layout.xaxis.Rangeselector\n                instance or dict with compatible properties\n            rangeslider\n                plotly.graph_objs.layout.xaxis.Rangeslider\n                instance or dict with compatible properties\n            scaleanchor\n                If set to another axis id (e.g. `x2`, `y`), the\n                range of this axis changes together with the\n                range of the corresponding axis such that the\n                scale of pixels per unit is in a constant\n                ratio. Both axes are still zoomable, but when\n                you zoom one, the other will zoom the same\n                amount, keeping a fixed midpoint. `constrain`\n                and `constraintoward` determine how we enforce\n                the constraint. You can chain these, ie `yaxis:\n                {scaleanchor: *x*}, xaxis2: {scaleanchor: *y*}`\n                but you can only link axes of the same `type`.\n                The linked axis can have the opposite letter\n                (to constrain the aspect ratio) or the same\n                letter (to match scales across subplots). Loops\n                (`yaxis: {scaleanchor: *x*}, xaxis:\n                {scaleanchor: *y*}` or longer) are redundant\n                and the last constraint encountered will be\n                ignored to avoid possible inconsistent\n                constraints via `scaleratio`.\n            scaleratio\n                If this axis is linked to another by\n                `scaleanchor`, this determines the pixel to\n                unit scale ratio. For example, if this value is\n                10, then every unit on this axis spans 10 times\n                the number of pixels as a unit on the linked\n                axis. Use this for example to create an\n                elevation profile where the vertical scale is\n                exaggerated a fixed amount with respect to the\n                horizontal.\n            separatethousands\n                If \"true\", even 4-digit integers are separated\n            showexponent\n                If *all*, all exponents are shown besides their\n                significands. If *first*, only the exponent of\n                the first tick is shown. If *last*, only the\n                exponent of the last tick is shown. If *none*,\n                no exponents appear.\n            showgrid\n                Determines whether or not grid lines are drawn.\n                If *true*, the grid lines are drawn at every\n                tick mark.\n            showline\n                Determines whether or not a line bounding this\n                axis is drawn.\n            showspikes\n                Determines whether or not spikes (aka\n                droplines) are drawn for this axis. Note: This\n                only takes affect when hovermode = closest\n            showticklabels\n                Determines whether or not the tick labels are\n                drawn.\n            showtickprefix\n                If *all*, all tick labels are displayed with a\n                prefix. If *first*, only the first tick is\n                displayed with a prefix. If *last*, only the\n                last tick is displayed with a suffix. If\n                *none*, tick prefixes are hidden.\n            showticksuffix\n                Same as `showtickprefix` but for tick suffixes.\n            side\n                Determines whether a x (y) axis is positioned\n                at the *bottom* (*left*) or *top* (*right*) of\n                the plotting area.\n            spikecolor\n                Sets the spike color. If undefined, will use\n                the series color\n            spikedash\n                Sets the dash style of lines. Set to a dash\n                type string (*solid*, *dot*, *dash*,\n                *longdash*, *dashdot*, or *longdashdot*) or a\n                dash length list in px (eg *5px,10px,2px,2px*).\n            spikemode\n                Determines the drawing mode for the spike line\n                If *toaxis*, the line is drawn from the data\n                point to the axis the  series is plotted on. If\n                *across*, the line is drawn across the entire\n                plot area, and supercedes *toaxis*. If\n                *marker*, then a marker dot is drawn on the\n                axis the series is plotted on\n            spikesnap\n                Determines whether spikelines are stuck to the\n                cursor or to the closest datapoints.\n            spikethickness\n                Sets the width (in px) of the zero line.\n            tick0\n                Sets the placement of the first tick on this\n                axis. Use with `dtick`. If the axis `type` is\n                *log*, then you must take the log of your\n                starting tick (e.g. to set the starting tick to\n                100, set the `tick0` to 2) except when\n                `dtick`=*L<f>* (see `dtick` for more info). If\n                the axis `type` is *date*, it should be a date\n                string, like date data. If the axis `type` is\n                *category*, it should be a number, using the\n                scale where each category is assigned a serial\n                number from zero in the order it appears.\n            tickangle\n                Sets the angle of the tick labels with respect\n                to the horizontal. For example, a `tickangle`\n                of -90 draws the tick labels vertically.\n            tickcolor\n                Sets the tick color.\n            tickfont\n                Sets the tick font.\n            tickformat\n                Sets the tick label formatting rule using d3\n                formatting mini-languages which are very\n                similar to those in Python. For numbers, see: h\n                ttps://github.com/d3/d3-format/blob/master/READ\n                ME.md#locale_format And for dates see:\n                https://github.com/d3/d3-time-\n                format/blob/master/README.md#locale_format We\n                add one item to d3's date formatter: *%{n}f*\n                for fractional seconds with n digits. For\n                example, *2016-10-13 09:15:23.456* with\n                tickformat *%H~%M~%S.%2f* would display\n                *09~15~23.46*\n            tickformatstops\n                plotly.graph_objs.layout.xaxis.Tickformatstop\n                instance or dict with compatible properties\n            ticklen\n                Sets the tick length (in px).\n            tickmode\n                Sets the tick mode for this axis. If *auto*,\n                the number of ticks is set via `nticks`. If\n                *linear*, the placement of the ticks is\n                determined by a starting position `tick0` and a\n                tick step `dtick` (*linear* is the default\n                value if `tick0` and `dtick` are provided). If\n                *array*, the placement of the ticks is set via\n                `tickvals` and the tick text is `ticktext`.\n                (*array* is the default value if `tickvals` is\n                provided).\n            tickprefix\n                Sets a tick label prefix.\n            ticks\n                Determines whether ticks are drawn or not. If\n                **, this axis' ticks are not drawn. If\n                *outside* (*inside*), this axis' are drawn\n                outside (inside) the axis lines.\n            ticksuffix\n                Sets a tick label suffix.\n            ticktext\n                Sets the text displayed at the ticks position\n                via `tickvals`. Only has an effect if\n                `tickmode` is set to *array*. Used with\n                `tickvals`.\n            ticktextsrc\n                Sets the source reference on plot.ly for\n                ticktext .\n            tickvals\n                Sets the values at which ticks on this axis\n                appear. Only has an effect if `tickmode` is set\n                to *array*. Used with `ticktext`.\n            tickvalssrc\n                Sets the source reference on plot.ly for\n                tickvals .\n            tickwidth\n                Sets the tick width (in px).\n            title\n                Sets the title of this axis.\n            titlefont\n                Sets this axis' title font.\n            type\n                Sets the axis type. By default, plotly attempts\n                to determined the axis type by looking into the\n                data of the traces that referenced the axis in\n                question.\n            visible\n                A single toggle to hide the axis while\n                preserving interaction like dragging. Default\n                is true when a cheater plot is present on the\n                axis, otherwise false\n            zeroline\n                Determines whether or not a line is drawn at\n                along the 0 value of this axis. If *true*, the\n                zero line is drawn on top of the grid lines.\n            zerolinecolor\n                Sets the line color of the zero line.\n            zerolinewidth\n                Sets the width (in px) of the zero line.",
     "output_type": "error",
     "traceback": [
      "\u001b[0;31m\u001b[0m",
      "\u001b[0;31mValueError\u001b[0mTraceback (most recent call last)",
      "\u001b[0;32m<ipython-input-17-ee4fd9f70dc5>\u001b[0m in \u001b[0;36m<module>\u001b[0;34m()\u001b[0m\n\u001b[1;32m      4\u001b[0m \u001b[0mfigure\u001b[0m \u001b[0;34m=\u001b[0m \u001b[0;34m{\u001b[0m\u001b[0;34m'data'\u001b[0m\u001b[0;34m:\u001b[0m \u001b[0;34m[\u001b[0m\u001b[0mtrace_of_data\u001b[0m\u001b[0;34m]\u001b[0m\u001b[0;34m,\u001b[0m \u001b[0;34m'layout'\u001b[0m\u001b[0;34m:\u001b[0m \u001b[0mlayout\u001b[0m\u001b[0;34m}\u001b[0m\u001b[0;34m\u001b[0m\u001b[0m\n\u001b[1;32m      5\u001b[0m \u001b[0;34m\u001b[0m\u001b[0m\n\u001b[0;32m----> 6\u001b[0;31m \u001b[0mplotly\u001b[0m\u001b[0;34m.\u001b[0m\u001b[0moffline\u001b[0m\u001b[0;34m.\u001b[0m\u001b[0miplot\u001b[0m\u001b[0;34m(\u001b[0m\u001b[0mfigure\u001b[0m\u001b[0;34m)\u001b[0m\u001b[0;34m\u001b[0m\u001b[0m\n\u001b[0m",
      "\u001b[0;32m/opt/conda/lib/python3.6/site-packages/plotly/offline/offline.py\u001b[0m in \u001b[0;36miplot\u001b[0;34m(figure_or_data, show_link, link_text, validate, image, filename, image_width, image_height, config)\u001b[0m\n\u001b[1;32m    334\u001b[0m     \u001b[0mconfig\u001b[0m\u001b[0;34m.\u001b[0m\u001b[0msetdefault\u001b[0m\u001b[0;34m(\u001b[0m\u001b[0;34m'linkText'\u001b[0m\u001b[0;34m,\u001b[0m \u001b[0mlink_text\u001b[0m\u001b[0;34m)\u001b[0m\u001b[0;34m\u001b[0m\u001b[0m\n\u001b[1;32m    335\u001b[0m \u001b[0;34m\u001b[0m\u001b[0m\n\u001b[0;32m--> 336\u001b[0;31m     \u001b[0mfigure\u001b[0m \u001b[0;34m=\u001b[0m \u001b[0mtools\u001b[0m\u001b[0;34m.\u001b[0m\u001b[0mreturn_figure_from_figure_or_data\u001b[0m\u001b[0;34m(\u001b[0m\u001b[0mfigure_or_data\u001b[0m\u001b[0;34m,\u001b[0m \u001b[0mvalidate\u001b[0m\u001b[0;34m)\u001b[0m\u001b[0;34m\u001b[0m\u001b[0m\n\u001b[0m\u001b[1;32m    337\u001b[0m \u001b[0;34m\u001b[0m\u001b[0m\n\u001b[1;32m    338\u001b[0m     \u001b[0;31m# Though it can add quite a bit to the display-bundle size, we include\u001b[0m\u001b[0;34m\u001b[0m\u001b[0;34m\u001b[0m\u001b[0m\n",
      "\u001b[0;32m/opt/conda/lib/python3.6/site-packages/plotly/tools.py\u001b[0m in \u001b[0;36mreturn_figure_from_figure_or_data\u001b[0;34m(figure_or_data, validate_figure)\u001b[0m\n\u001b[1;32m   1473\u001b[0m \u001b[0;34m\u001b[0m\u001b[0m\n\u001b[1;32m   1474\u001b[0m         \u001b[0;32mtry\u001b[0m\u001b[0;34m:\u001b[0m\u001b[0;34m\u001b[0m\u001b[0m\n\u001b[0;32m-> 1475\u001b[0;31m             \u001b[0mfigure\u001b[0m \u001b[0;34m=\u001b[0m \u001b[0mFigure\u001b[0m\u001b[0;34m(\u001b[0m\u001b[0;34m**\u001b[0m\u001b[0mfigure\u001b[0m\u001b[0;34m)\u001b[0m\u001b[0;34m.\u001b[0m\u001b[0mto_dict\u001b[0m\u001b[0;34m(\u001b[0m\u001b[0;34m)\u001b[0m\u001b[0;34m\u001b[0m\u001b[0m\n\u001b[0m\u001b[1;32m   1476\u001b[0m         \u001b[0;32mexcept\u001b[0m \u001b[0mexceptions\u001b[0m\u001b[0;34m.\u001b[0m\u001b[0mPlotlyError\u001b[0m \u001b[0;32mas\u001b[0m \u001b[0merr\u001b[0m\u001b[0;34m:\u001b[0m\u001b[0;34m\u001b[0m\u001b[0m\n\u001b[1;32m   1477\u001b[0m             raise exceptions.PlotlyError(\"Invalid 'figure_or_data' argument. \"\n",
      "\u001b[0;32m/opt/conda/lib/python3.6/site-packages/plotly/graph_objs/_figure.py\u001b[0m in \u001b[0;36m__init__\u001b[0;34m(self, data, layout, frames)\u001b[0m\n\u001b[1;32m    312\u001b[0m                         \u001b[0mrespective\u001b[0m \u001b[0mtraces\u001b[0m \u001b[0;32min\u001b[0m \u001b[0mthe\u001b[0m \u001b[0mdata\u001b[0m \u001b[0mattribute\u001b[0m\u001b[0;34m\u001b[0m\u001b[0m\n\u001b[1;32m    313\u001b[0m         \"\"\"\n\u001b[0;32m--> 314\u001b[0;31m         \u001b[0msuper\u001b[0m\u001b[0;34m(\u001b[0m\u001b[0mFigure\u001b[0m\u001b[0;34m,\u001b[0m \u001b[0mself\u001b[0m\u001b[0;34m)\u001b[0m\u001b[0;34m.\u001b[0m\u001b[0m__init__\u001b[0m\u001b[0;34m(\u001b[0m\u001b[0mdata\u001b[0m\u001b[0;34m,\u001b[0m \u001b[0mlayout\u001b[0m\u001b[0;34m,\u001b[0m \u001b[0mframes\u001b[0m\u001b[0;34m)\u001b[0m\u001b[0;34m\u001b[0m\u001b[0m\n\u001b[0m\u001b[1;32m    315\u001b[0m \u001b[0;34m\u001b[0m\u001b[0m\n\u001b[1;32m    316\u001b[0m     def add_area(\n",
      "\u001b[0;32m/opt/conda/lib/python3.6/site-packages/plotly/basedatatypes.py\u001b[0m in \u001b[0;36m__init__\u001b[0;34m(self, data, layout_plotly, frames)\u001b[0m\n\u001b[1;32m    155\u001b[0m \u001b[0;34m\u001b[0m\u001b[0m\n\u001b[1;32m    156\u001b[0m         \u001b[0;31m# ### Import Layout ###\u001b[0m\u001b[0;34m\u001b[0m\u001b[0;34m\u001b[0m\u001b[0m\n\u001b[0;32m--> 157\u001b[0;31m         \u001b[0mself\u001b[0m\u001b[0;34m.\u001b[0m\u001b[0m_layout_obj\u001b[0m \u001b[0;34m=\u001b[0m \u001b[0mself\u001b[0m\u001b[0;34m.\u001b[0m\u001b[0m_layout_validator\u001b[0m\u001b[0;34m.\u001b[0m\u001b[0mvalidate_coerce\u001b[0m\u001b[0;34m(\u001b[0m\u001b[0mlayout\u001b[0m\u001b[0;34m)\u001b[0m\u001b[0;34m\u001b[0m\u001b[0m\n\u001b[0m\u001b[1;32m    158\u001b[0m \u001b[0;34m\u001b[0m\u001b[0m\n\u001b[1;32m    159\u001b[0m         \u001b[0;31m# ### Import clone of layout properties ###\u001b[0m\u001b[0;34m\u001b[0m\u001b[0;34m\u001b[0m\u001b[0m\n",
      "\u001b[0;32m/opt/conda/lib/python3.6/site-packages/_plotly_utils/basevalidators.py\u001b[0m in \u001b[0;36mvalidate_coerce\u001b[0;34m(self, v)\u001b[0m\n\u001b[1;32m   1790\u001b[0m \u001b[0;34m\u001b[0m\u001b[0m\n\u001b[1;32m   1791\u001b[0m         \u001b[0;32melif\u001b[0m \u001b[0misinstance\u001b[0m\u001b[0;34m(\u001b[0m\u001b[0mv\u001b[0m\u001b[0;34m,\u001b[0m \u001b[0mdict\u001b[0m\u001b[0;34m)\u001b[0m\u001b[0;34m:\u001b[0m\u001b[0;34m\u001b[0m\u001b[0m\n\u001b[0;32m-> 1792\u001b[0;31m             \u001b[0mv\u001b[0m \u001b[0;34m=\u001b[0m \u001b[0mself\u001b[0m\u001b[0;34m.\u001b[0m\u001b[0mdata_class\u001b[0m\u001b[0;34m(\u001b[0m\u001b[0;34m**\u001b[0m\u001b[0mv\u001b[0m\u001b[0;34m)\u001b[0m\u001b[0;34m\u001b[0m\u001b[0m\n\u001b[0m\u001b[1;32m   1793\u001b[0m \u001b[0;34m\u001b[0m\u001b[0m\n\u001b[1;32m   1794\u001b[0m         \u001b[0;32melif\u001b[0m \u001b[0misinstance\u001b[0m\u001b[0;34m(\u001b[0m\u001b[0mv\u001b[0m\u001b[0;34m,\u001b[0m \u001b[0mself\u001b[0m\u001b[0;34m.\u001b[0m\u001b[0mdata_class\u001b[0m\u001b[0;34m)\u001b[0m\u001b[0;34m:\u001b[0m\u001b[0;34m\u001b[0m\u001b[0m\n",
      "\u001b[0;32m/opt/conda/lib/python3.6/site-packages/plotly/graph_objs/_layout.py\u001b[0m in \u001b[0;36m__init__\u001b[0;34m(self, arg, angularaxis, annotations, autosize, bargap, bargroupgap, barmode, barnorm, boxgap, boxgroupgap, boxmode, calendar, colorway, datarevision, direction, dragmode, font, geo, grid, height, hiddenlabels, hiddenlabelssrc, hidesources, hoverdistance, hoverlabel, hovermode, images, legend, mapbox, margin, orientation, paper_bgcolor, plot_bgcolor, polar, radialaxis, scene, selectdirection, separators, shapes, showlegend, sliders, spikedistance, template, ternary, title, titlefont, updatemenus, violingap, violingroupgap, violinmode, width, xaxis, yaxis, **kwargs)\u001b[0m\n\u001b[1;32m   3783\u001b[0m         \u001b[0mself\u001b[0m\u001b[0;34m.\u001b[0m\u001b[0mwidth\u001b[0m \u001b[0;34m=\u001b[0m \u001b[0mwidth\u001b[0m \u001b[0;32mif\u001b[0m \u001b[0mwidth\u001b[0m \u001b[0;32mis\u001b[0m \u001b[0;32mnot\u001b[0m \u001b[0;32mNone\u001b[0m \u001b[0;32melse\u001b[0m \u001b[0m_v\u001b[0m\u001b[0;34m\u001b[0m\u001b[0m\n\u001b[1;32m   3784\u001b[0m         \u001b[0m_v\u001b[0m \u001b[0;34m=\u001b[0m \u001b[0marg\u001b[0m\u001b[0;34m.\u001b[0m\u001b[0mpop\u001b[0m\u001b[0;34m(\u001b[0m\u001b[0;34m'xaxis'\u001b[0m\u001b[0;34m,\u001b[0m \u001b[0;32mNone\u001b[0m\u001b[0;34m)\u001b[0m\u001b[0;34m\u001b[0m\u001b[0m\n\u001b[0;32m-> 3785\u001b[0;31m         \u001b[0mself\u001b[0m\u001b[0;34m.\u001b[0m\u001b[0mxaxis\u001b[0m \u001b[0;34m=\u001b[0m \u001b[0mxaxis\u001b[0m \u001b[0;32mif\u001b[0m \u001b[0mxaxis\u001b[0m \u001b[0;32mis\u001b[0m \u001b[0;32mnot\u001b[0m \u001b[0;32mNone\u001b[0m \u001b[0;32melse\u001b[0m \u001b[0m_v\u001b[0m\u001b[0;34m\u001b[0m\u001b[0m\n\u001b[0m\u001b[1;32m   3786\u001b[0m         \u001b[0m_v\u001b[0m \u001b[0;34m=\u001b[0m \u001b[0marg\u001b[0m\u001b[0;34m.\u001b[0m\u001b[0mpop\u001b[0m\u001b[0;34m(\u001b[0m\u001b[0;34m'yaxis'\u001b[0m\u001b[0;34m,\u001b[0m \u001b[0;32mNone\u001b[0m\u001b[0;34m)\u001b[0m\u001b[0;34m\u001b[0m\u001b[0m\n\u001b[1;32m   3787\u001b[0m         \u001b[0mself\u001b[0m\u001b[0;34m.\u001b[0m\u001b[0myaxis\u001b[0m \u001b[0;34m=\u001b[0m \u001b[0myaxis\u001b[0m \u001b[0;32mif\u001b[0m \u001b[0myaxis\u001b[0m \u001b[0;32mis\u001b[0m \u001b[0;32mnot\u001b[0m \u001b[0;32mNone\u001b[0m \u001b[0;32melse\u001b[0m \u001b[0m_v\u001b[0m\u001b[0;34m\u001b[0m\u001b[0m\n",
      "\u001b[0;32m/opt/conda/lib/python3.6/site-packages/plotly/basedatatypes.py\u001b[0m in \u001b[0;36m__setattr__\u001b[0;34m(self, prop, value)\u001b[0m\n\u001b[1;32m   3601\u001b[0m         \u001b[0;32mif\u001b[0m \u001b[0mmatch\u001b[0m \u001b[0;32mis\u001b[0m \u001b[0;32mNone\u001b[0m\u001b[0;34m:\u001b[0m\u001b[0;34m\u001b[0m\u001b[0m\n\u001b[1;32m   3602\u001b[0m             \u001b[0;31m# Set as ordinary property\u001b[0m\u001b[0;34m\u001b[0m\u001b[0;34m\u001b[0m\u001b[0m\n\u001b[0;32m-> 3603\u001b[0;31m             \u001b[0msuper\u001b[0m\u001b[0;34m(\u001b[0m\u001b[0mBaseLayoutHierarchyType\u001b[0m\u001b[0;34m,\u001b[0m \u001b[0mself\u001b[0m\u001b[0;34m)\u001b[0m\u001b[0;34m.\u001b[0m\u001b[0m__setattr__\u001b[0m\u001b[0;34m(\u001b[0m\u001b[0mprop\u001b[0m\u001b[0;34m,\u001b[0m \u001b[0mvalue\u001b[0m\u001b[0;34m)\u001b[0m\u001b[0;34m\u001b[0m\u001b[0m\n\u001b[0m\u001b[1;32m   3604\u001b[0m         \u001b[0;32melse\u001b[0m\u001b[0;34m:\u001b[0m\u001b[0;34m\u001b[0m\u001b[0m\n\u001b[1;32m   3605\u001b[0m             \u001b[0;31m# Set as subplotid property\u001b[0m\u001b[0;34m\u001b[0m\u001b[0;34m\u001b[0m\u001b[0m\n",
      "\u001b[0;32m/opt/conda/lib/python3.6/site-packages/plotly/basedatatypes.py\u001b[0m in \u001b[0;36m__setattr__\u001b[0;34m(self, prop, value)\u001b[0m\n\u001b[1;32m   2702\u001b[0m                 prop in self._validators):\n\u001b[1;32m   2703\u001b[0m             \u001b[0;31m# Let known properties and private properties through\u001b[0m\u001b[0;34m\u001b[0m\u001b[0;34m\u001b[0m\u001b[0m\n\u001b[0;32m-> 2704\u001b[0;31m             \u001b[0msuper\u001b[0m\u001b[0;34m(\u001b[0m\u001b[0mBasePlotlyType\u001b[0m\u001b[0;34m,\u001b[0m \u001b[0mself\u001b[0m\u001b[0;34m)\u001b[0m\u001b[0;34m.\u001b[0m\u001b[0m__setattr__\u001b[0m\u001b[0;34m(\u001b[0m\u001b[0mprop\u001b[0m\u001b[0;34m,\u001b[0m \u001b[0mvalue\u001b[0m\u001b[0;34m)\u001b[0m\u001b[0;34m\u001b[0m\u001b[0m\n\u001b[0m\u001b[1;32m   2705\u001b[0m         \u001b[0;32melse\u001b[0m\u001b[0;34m:\u001b[0m\u001b[0;34m\u001b[0m\u001b[0m\n\u001b[1;32m   2706\u001b[0m             \u001b[0;31m# Raise error on unknown public properties\u001b[0m\u001b[0;34m\u001b[0m\u001b[0;34m\u001b[0m\u001b[0m\n",
      "\u001b[0;32m/opt/conda/lib/python3.6/site-packages/plotly/graph_objs/_layout.py\u001b[0m in \u001b[0;36mxaxis\u001b[0;34m(self, val)\u001b[0m\n\u001b[1;32m   2711\u001b[0m     \u001b[0;34m@\u001b[0m\u001b[0mxaxis\u001b[0m\u001b[0;34m.\u001b[0m\u001b[0msetter\u001b[0m\u001b[0;34m\u001b[0m\u001b[0m\n\u001b[1;32m   2712\u001b[0m     \u001b[0;32mdef\u001b[0m \u001b[0mxaxis\u001b[0m\u001b[0;34m(\u001b[0m\u001b[0mself\u001b[0m\u001b[0;34m,\u001b[0m \u001b[0mval\u001b[0m\u001b[0;34m)\u001b[0m\u001b[0;34m:\u001b[0m\u001b[0;34m\u001b[0m\u001b[0m\n\u001b[0;32m-> 2713\u001b[0;31m         \u001b[0mself\u001b[0m\u001b[0;34m[\u001b[0m\u001b[0;34m'xaxis'\u001b[0m\u001b[0;34m]\u001b[0m \u001b[0;34m=\u001b[0m \u001b[0mval\u001b[0m\u001b[0;34m\u001b[0m\u001b[0m\n\u001b[0m\u001b[1;32m   2714\u001b[0m \u001b[0;34m\u001b[0m\u001b[0m\n\u001b[1;32m   2715\u001b[0m     \u001b[0;31m# yaxis\u001b[0m\u001b[0;34m\u001b[0m\u001b[0;34m\u001b[0m\u001b[0m\n",
      "\u001b[0;32m/opt/conda/lib/python3.6/site-packages/plotly/basedatatypes.py\u001b[0m in \u001b[0;36m__setitem__\u001b[0;34m(self, prop, value)\u001b[0m\n\u001b[1;32m   3587\u001b[0m         \u001b[0;32mif\u001b[0m \u001b[0mmatch\u001b[0m \u001b[0;32mis\u001b[0m \u001b[0;32mNone\u001b[0m\u001b[0;34m:\u001b[0m\u001b[0;34m\u001b[0m\u001b[0m\n\u001b[1;32m   3588\u001b[0m             \u001b[0;31m# Set as ordinary property\u001b[0m\u001b[0;34m\u001b[0m\u001b[0;34m\u001b[0m\u001b[0m\n\u001b[0;32m-> 3589\u001b[0;31m             \u001b[0msuper\u001b[0m\u001b[0;34m(\u001b[0m\u001b[0mBaseLayoutHierarchyType\u001b[0m\u001b[0;34m,\u001b[0m \u001b[0mself\u001b[0m\u001b[0;34m)\u001b[0m\u001b[0;34m.\u001b[0m\u001b[0m__setitem__\u001b[0m\u001b[0;34m(\u001b[0m\u001b[0mprop\u001b[0m\u001b[0;34m,\u001b[0m \u001b[0mvalue\u001b[0m\u001b[0;34m)\u001b[0m\u001b[0;34m\u001b[0m\u001b[0m\n\u001b[0m\u001b[1;32m   3590\u001b[0m         \u001b[0;32melse\u001b[0m\u001b[0;34m:\u001b[0m\u001b[0;34m\u001b[0m\u001b[0m\n\u001b[1;32m   3591\u001b[0m             \u001b[0;31m# Set as subplotid property\u001b[0m\u001b[0;34m\u001b[0m\u001b[0;34m\u001b[0m\u001b[0m\n",
      "\u001b[0;32m/opt/conda/lib/python3.6/site-packages/plotly/basedatatypes.py\u001b[0m in \u001b[0;36m__setitem__\u001b[0;34m(self, prop, value)\u001b[0m\n\u001b[1;32m   2665\u001b[0m             \u001b[0;31m# ### Handle compound property ###\u001b[0m\u001b[0;34m\u001b[0m\u001b[0;34m\u001b[0m\u001b[0m\n\u001b[1;32m   2666\u001b[0m             \u001b[0;32mif\u001b[0m \u001b[0misinstance\u001b[0m\u001b[0;34m(\u001b[0m\u001b[0mvalidator\u001b[0m\u001b[0;34m,\u001b[0m \u001b[0mCompoundValidator\u001b[0m\u001b[0;34m)\u001b[0m\u001b[0;34m:\u001b[0m\u001b[0;34m\u001b[0m\u001b[0m\n\u001b[0;32m-> 2667\u001b[0;31m                 \u001b[0mself\u001b[0m\u001b[0;34m.\u001b[0m\u001b[0m_set_compound_prop\u001b[0m\u001b[0;34m(\u001b[0m\u001b[0mprop\u001b[0m\u001b[0;34m,\u001b[0m \u001b[0mvalue\u001b[0m\u001b[0;34m)\u001b[0m\u001b[0;34m\u001b[0m\u001b[0m\n\u001b[0m\u001b[1;32m   2668\u001b[0m \u001b[0;34m\u001b[0m\u001b[0m\n\u001b[1;32m   2669\u001b[0m             \u001b[0;31m# ### Handle compound array property ###\u001b[0m\u001b[0;34m\u001b[0m\u001b[0;34m\u001b[0m\u001b[0m\n",
      "\u001b[0;32m/opt/conda/lib/python3.6/site-packages/plotly/basedatatypes.py\u001b[0m in \u001b[0;36m_set_compound_prop\u001b[0;34m(self, prop, val)\u001b[0m\n\u001b[1;32m   2963\u001b[0m         \u001b[0mvalidator\u001b[0m \u001b[0;34m=\u001b[0m \u001b[0mself\u001b[0m\u001b[0;34m.\u001b[0m\u001b[0m_validators\u001b[0m\u001b[0;34m.\u001b[0m\u001b[0mget\u001b[0m\u001b[0;34m(\u001b[0m\u001b[0mprop\u001b[0m\u001b[0;34m)\u001b[0m\u001b[0;34m\u001b[0m\u001b[0m\n\u001b[1;32m   2964\u001b[0m         \u001b[0;31m# type: BasePlotlyType\u001b[0m\u001b[0;34m\u001b[0m\u001b[0;34m\u001b[0m\u001b[0m\n\u001b[0;32m-> 2965\u001b[0;31m         \u001b[0mval\u001b[0m \u001b[0;34m=\u001b[0m \u001b[0mvalidator\u001b[0m\u001b[0;34m.\u001b[0m\u001b[0mvalidate_coerce\u001b[0m\u001b[0;34m(\u001b[0m\u001b[0mval\u001b[0m\u001b[0;34m)\u001b[0m\u001b[0;34m\u001b[0m\u001b[0m\n\u001b[0m\u001b[1;32m   2966\u001b[0m \u001b[0;34m\u001b[0m\u001b[0m\n\u001b[1;32m   2967\u001b[0m         \u001b[0;31m# Save deep copies of current and new states\u001b[0m\u001b[0;34m\u001b[0m\u001b[0;34m\u001b[0m\u001b[0m\n",
      "\u001b[0;32m/opt/conda/lib/python3.6/site-packages/_plotly_utils/basevalidators.py\u001b[0m in \u001b[0;36mvalidate_coerce\u001b[0;34m(self, v)\u001b[0m\n\u001b[1;32m   1796\u001b[0m             \u001b[0mv\u001b[0m \u001b[0;34m=\u001b[0m \u001b[0mself\u001b[0m\u001b[0;34m.\u001b[0m\u001b[0mdata_class\u001b[0m\u001b[0;34m(\u001b[0m\u001b[0;34m**\u001b[0m\u001b[0mv\u001b[0m\u001b[0;34m.\u001b[0m\u001b[0mto_plotly_json\u001b[0m\u001b[0;34m(\u001b[0m\u001b[0;34m)\u001b[0m\u001b[0;34m)\u001b[0m\u001b[0;34m\u001b[0m\u001b[0m\n\u001b[1;32m   1797\u001b[0m         \u001b[0;32melse\u001b[0m\u001b[0;34m:\u001b[0m\u001b[0;34m\u001b[0m\u001b[0m\n\u001b[0;32m-> 1798\u001b[0;31m             \u001b[0mself\u001b[0m\u001b[0;34m.\u001b[0m\u001b[0mraise_invalid_val\u001b[0m\u001b[0;34m(\u001b[0m\u001b[0mv\u001b[0m\u001b[0;34m)\u001b[0m\u001b[0;34m\u001b[0m\u001b[0m\n\u001b[0m\u001b[1;32m   1799\u001b[0m \u001b[0;34m\u001b[0m\u001b[0m\n\u001b[1;32m   1800\u001b[0m         \u001b[0mv\u001b[0m\u001b[0;34m.\u001b[0m\u001b[0m_plotly_name\u001b[0m \u001b[0;34m=\u001b[0m \u001b[0mself\u001b[0m\u001b[0;34m.\u001b[0m\u001b[0mplotly_name\u001b[0m\u001b[0;34m\u001b[0m\u001b[0m\n",
      "\u001b[0;32m/opt/conda/lib/python3.6/site-packages/_plotly_utils/basevalidators.py\u001b[0m in \u001b[0;36mraise_invalid_val\u001b[0;34m(self, v)\u001b[0m\n\u001b[1;32m    214\u001b[0m             \u001b[0mtyp\u001b[0m\u001b[0;34m=\u001b[0m\u001b[0mtype_str\u001b[0m\u001b[0;34m(\u001b[0m\u001b[0mv\u001b[0m\u001b[0;34m)\u001b[0m\u001b[0;34m,\u001b[0m\u001b[0;34m\u001b[0m\u001b[0m\n\u001b[1;32m    215\u001b[0m             \u001b[0mv\u001b[0m\u001b[0;34m=\u001b[0m\u001b[0mrepr\u001b[0m\u001b[0;34m(\u001b[0m\u001b[0mv\u001b[0m\u001b[0;34m)\u001b[0m\u001b[0;34m,\u001b[0m\u001b[0;34m\u001b[0m\u001b[0m\n\u001b[0;32m--> 216\u001b[0;31m             valid_clr_desc=self.description()))\n\u001b[0m\u001b[1;32m    217\u001b[0m \u001b[0;34m\u001b[0m\u001b[0m\n\u001b[1;32m    218\u001b[0m     \u001b[0;32mdef\u001b[0m \u001b[0mraise_invalid_elements\u001b[0m\u001b[0;34m(\u001b[0m\u001b[0mself\u001b[0m\u001b[0;34m,\u001b[0m \u001b[0minvalid_els\u001b[0m\u001b[0;34m)\u001b[0m\u001b[0;34m:\u001b[0m\u001b[0;34m\u001b[0m\u001b[0m\n",
      "\u001b[0;31mValueError\u001b[0m: \n    Invalid value of type 'builtins.range' received for the 'xaxis' property of layout\n        Received value: range(0, 12)\n\n    The 'xaxis' property is an instance of XAxis\n    that may be specified as:\n      - An instance of plotly.graph_objs.layout.XAxis\n      - A dict of string/value properties that will be passed\n        to the XAxis constructor\n\n        Supported dict properties:\n            \n            anchor\n                If set to an opposite-letter axis id (e.g.\n                `x2`, `y`), this axis is bound to the\n                corresponding opposite-letter axis. If set to\n                *free*, this axis' position is determined by\n                `position`.\n            automargin\n                Determines whether long tick labels\n                automatically grow the figure margins.\n            autorange\n                Determines whether or not the range of this\n                axis is computed in relation to the input data.\n                See `rangemode` for more info. If `range` is\n                provided, then `autorange` is set to *false*.\n            calendar\n                Sets the calendar system to use for `range` and\n                `tick0` if this is a date axis. This does not\n                set the calendar for interpreting data on this\n                axis, that's specified in the trace or via the\n                global `layout.calendar`\n            categoryarray\n                Sets the order in which categories on this axis\n                appear. Only has an effect if `categoryorder`\n                is set to *array*. Used with `categoryorder`.\n            categoryarraysrc\n                Sets the source reference on plot.ly for\n                categoryarray .\n            categoryorder\n                Specifies the ordering logic for the case of\n                categorical variables. By default, plotly uses\n                *trace*, which specifies the order that is\n                present in the data supplied. Set\n                `categoryorder` to *category ascending* or\n                *category descending* if order should be\n                determined by the alphanumerical order of the\n                category names. Set `categoryorder` to *array*\n                to derive the ordering from the attribute\n                `categoryarray`. If a category is not found in\n                the `categoryarray` array, the sorting behavior\n                for that attribute will be identical to the\n                *trace* mode. The unspecified categories will\n                follow the categories in `categoryarray`.\n            color\n                Sets default for all colors associated with\n                this axis all at once: line, font, tick, and\n                grid colors. Grid color is lightened by\n                blending this with the plot background\n                Individual pieces can override this.\n            constrain\n                If this axis needs to be compressed (either due\n                to its own `scaleanchor` and `scaleratio` or\n                those of the other axis), determines how that\n                happens: by increasing the *range* (default),\n                or by decreasing the *domain*.\n            constraintoward\n                If this axis needs to be compressed (either due\n                to its own `scaleanchor` and `scaleratio` or\n                those of the other axis), determines which\n                direction we push the originally specified plot\n                area. Options are *left*, *center* (default),\n                and *right* for x axes, and *top*, *middle*\n                (default), and *bottom* for y axes.\n            domain\n                Sets the domain of this axis (in plot\n                fraction).\n            dtick\n                Sets the step in-between ticks on this axis.\n                Use with `tick0`. Must be a positive number, or\n                special strings available to *log* and *date*\n                axes. If the axis `type` is *log*, then ticks\n                are set every 10^(n*dtick) where n is the tick\n                number. For example, to set a tick mark at 1,\n                10, 100, 1000, ... set dtick to 1. To set tick\n                marks at 1, 100, 10000, ... set dtick to 2. To\n                set tick marks at 1, 5, 25, 125, 625, 3125, ...\n                set dtick to log_10(5), or 0.69897000433. *log*\n                has several special values; *L<f>*, where `f`\n                is a positive number, gives ticks linearly\n                spaced in value (but not position). For example\n                `tick0` = 0.1, `dtick` = *L0.5* will put ticks\n                at 0.1, 0.6, 1.1, 1.6 etc. To show powers of 10\n                plus small digits between, use *D1* (all\n                digits) or *D2* (only 2 and 5). `tick0` is\n                ignored for *D1* and *D2*. If the axis `type`\n                is *date*, then you must convert the time to\n                milliseconds. For example, to set the interval\n                between ticks to one day, set `dtick` to\n                86400000.0. *date* also has special values\n                *M<n>* gives ticks spaced by a number of\n                months. `n` must be a positive integer. To set\n                ticks on the 15th of every third month, set\n                `tick0` to *2000-01-15* and `dtick` to *M3*. To\n                set ticks every 4 years, set `dtick` to *M48*\n            exponentformat\n                Determines a formatting rule for the tick\n                exponents. For example, consider the number\n                1,000,000,000. If *none*, it appears as\n                1,000,000,000. If *e*, 1e+9. If *E*, 1E+9. If\n                *power*, 1x10^9 (with 9 in a super script). If\n                *SI*, 1G. If *B*, 1B.\n            fixedrange\n                Determines whether or not this axis is zoom-\n                able. If true, then zoom is disabled.\n            gridcolor\n                Sets the color of the grid lines.\n            gridwidth\n                Sets the width (in px) of the grid lines.\n            hoverformat\n                Sets the hover text formatting rule using d3\n                formatting mini-languages which are very\n                similar to those in Python. For numbers, see: h\n                ttps://github.com/d3/d3-format/blob/master/READ\n                ME.md#locale_format And for dates see:\n                https://github.com/d3/d3-time-\n                format/blob/master/README.md#locale_format We\n                add one item to d3's date formatter: *%{n}f*\n                for fractional seconds with n digits. For\n                example, *2016-10-13 09:15:23.456* with\n                tickformat *%H~%M~%S.%2f* would display\n                *09~15~23.46*\n            layer\n                Sets the layer on which this axis is displayed.\n                If *above traces*, this axis is displayed above\n                all the subplot's traces If *below traces*,\n                this axis is displayed below all the subplot's\n                traces, but above the grid lines. Useful when\n                used together with scatter-like traces with\n                `cliponaxis` set to *false* to show markers\n                and/or text nodes above this axis.\n            linecolor\n                Sets the axis line color.\n            linewidth\n                Sets the width (in px) of the axis line.\n            mirror\n                Determines if the axis lines or/and ticks are\n                mirrored to the opposite side of the plotting\n                area. If *true*, the axis lines are mirrored.\n                If *ticks*, the axis lines and ticks are\n                mirrored. If *false*, mirroring is disable. If\n                *all*, axis lines are mirrored on all shared-\n                axes subplots. If *allticks*, axis lines and\n                ticks are mirrored on all shared-axes subplots.\n            nticks\n                Specifies the maximum number of ticks for the\n                particular axis. The actual number of ticks\n                will be chosen automatically to be less than or\n                equal to `nticks`. Has an effect only if\n                `tickmode` is set to *auto*.\n            overlaying\n                If set a same-letter axis id, this axis is\n                overlaid on top of the corresponding same-\n                letter axis. If *false*, this axis does not\n                overlay any same-letter axes.\n            position\n                Sets the position of this axis in the plotting\n                space (in normalized coordinates). Only has an\n                effect if `anchor` is set to *free*.\n            range\n                Sets the range of this axis. If the axis `type`\n                is *log*, then you must take the log of your\n                desired range (e.g. to set the range from 1 to\n                100, set the range from 0 to 2). If the axis\n                `type` is *date*, it should be date strings,\n                like date data, though Date objects and unix\n                milliseconds will be accepted and converted to\n                strings. If the axis `type` is *category*, it\n                should be numbers, using the scale where each\n                category is assigned a serial number from zero\n                in the order it appears.\n            rangemode\n                If *normal*, the range is computed in relation\n                to the extrema of the input data. If *tozero*`,\n                the range extends to 0, regardless of the input\n                data If *nonnegative*, the range is non-\n                negative, regardless of the input data.\n            rangeselector\n                plotly.graph_objs.layout.xaxis.Rangeselector\n                instance or dict with compatible properties\n            rangeslider\n                plotly.graph_objs.layout.xaxis.Rangeslider\n                instance or dict with compatible properties\n            scaleanchor\n                If set to another axis id (e.g. `x2`, `y`), the\n                range of this axis changes together with the\n                range of the corresponding axis such that the\n                scale of pixels per unit is in a constant\n                ratio. Both axes are still zoomable, but when\n                you zoom one, the other will zoom the same\n                amount, keeping a fixed midpoint. `constrain`\n                and `constraintoward` determine how we enforce\n                the constraint. You can chain these, ie `yaxis:\n                {scaleanchor: *x*}, xaxis2: {scaleanchor: *y*}`\n                but you can only link axes of the same `type`.\n                The linked axis can have the opposite letter\n                (to constrain the aspect ratio) or the same\n                letter (to match scales across subplots). Loops\n                (`yaxis: {scaleanchor: *x*}, xaxis:\n                {scaleanchor: *y*}` or longer) are redundant\n                and the last constraint encountered will be\n                ignored to avoid possible inconsistent\n                constraints via `scaleratio`.\n            scaleratio\n                If this axis is linked to another by\n                `scaleanchor`, this determines the pixel to\n                unit scale ratio. For example, if this value is\n                10, then every unit on this axis spans 10 times\n                the number of pixels as a unit on the linked\n                axis. Use this for example to create an\n                elevation profile where the vertical scale is\n                exaggerated a fixed amount with respect to the\n                horizontal.\n            separatethousands\n                If \"true\", even 4-digit integers are separated\n            showexponent\n                If *all*, all exponents are shown besides their\n                significands. If *first*, only the exponent of\n                the first tick is shown. If *last*, only the\n                exponent of the last tick is shown. If *none*,\n                no exponents appear.\n            showgrid\n                Determines whether or not grid lines are drawn.\n                If *true*, the grid lines are drawn at every\n                tick mark.\n            showline\n                Determines whether or not a line bounding this\n                axis is drawn.\n            showspikes\n                Determines whether or not spikes (aka\n                droplines) are drawn for this axis. Note: This\n                only takes affect when hovermode = closest\n            showticklabels\n                Determines whether or not the tick labels are\n                drawn.\n            showtickprefix\n                If *all*, all tick labels are displayed with a\n                prefix. If *first*, only the first tick is\n                displayed with a prefix. If *last*, only the\n                last tick is displayed with a suffix. If\n                *none*, tick prefixes are hidden.\n            showticksuffix\n                Same as `showtickprefix` but for tick suffixes.\n            side\n                Determines whether a x (y) axis is positioned\n                at the *bottom* (*left*) or *top* (*right*) of\n                the plotting area.\n            spikecolor\n                Sets the spike color. If undefined, will use\n                the series color\n            spikedash\n                Sets the dash style of lines. Set to a dash\n                type string (*solid*, *dot*, *dash*,\n                *longdash*, *dashdot*, or *longdashdot*) or a\n                dash length list in px (eg *5px,10px,2px,2px*).\n            spikemode\n                Determines the drawing mode for the spike line\n                If *toaxis*, the line is drawn from the data\n                point to the axis the  series is plotted on. If\n                *across*, the line is drawn across the entire\n                plot area, and supercedes *toaxis*. If\n                *marker*, then a marker dot is drawn on the\n                axis the series is plotted on\n            spikesnap\n                Determines whether spikelines are stuck to the\n                cursor or to the closest datapoints.\n            spikethickness\n                Sets the width (in px) of the zero line.\n            tick0\n                Sets the placement of the first tick on this\n                axis. Use with `dtick`. If the axis `type` is\n                *log*, then you must take the log of your\n                starting tick (e.g. to set the starting tick to\n                100, set the `tick0` to 2) except when\n                `dtick`=*L<f>* (see `dtick` for more info). If\n                the axis `type` is *date*, it should be a date\n                string, like date data. If the axis `type` is\n                *category*, it should be a number, using the\n                scale where each category is assigned a serial\n                number from zero in the order it appears.\n            tickangle\n                Sets the angle of the tick labels with respect\n                to the horizontal. For example, a `tickangle`\n                of -90 draws the tick labels vertically.\n            tickcolor\n                Sets the tick color.\n            tickfont\n                Sets the tick font.\n            tickformat\n                Sets the tick label formatting rule using d3\n                formatting mini-languages which are very\n                similar to those in Python. For numbers, see: h\n                ttps://github.com/d3/d3-format/blob/master/READ\n                ME.md#locale_format And for dates see:\n                https://github.com/d3/d3-time-\n                format/blob/master/README.md#locale_format We\n                add one item to d3's date formatter: *%{n}f*\n                for fractional seconds with n digits. For\n                example, *2016-10-13 09:15:23.456* with\n                tickformat *%H~%M~%S.%2f* would display\n                *09~15~23.46*\n            tickformatstops\n                plotly.graph_objs.layout.xaxis.Tickformatstop\n                instance or dict with compatible properties\n            ticklen\n                Sets the tick length (in px).\n            tickmode\n                Sets the tick mode for this axis. If *auto*,\n                the number of ticks is set via `nticks`. If\n                *linear*, the placement of the ticks is\n                determined by a starting position `tick0` and a\n                tick step `dtick` (*linear* is the default\n                value if `tick0` and `dtick` are provided). If\n                *array*, the placement of the ticks is set via\n                `tickvals` and the tick text is `ticktext`.\n                (*array* is the default value if `tickvals` is\n                provided).\n            tickprefix\n                Sets a tick label prefix.\n            ticks\n                Determines whether ticks are drawn or not. If\n                **, this axis' ticks are not drawn. If\n                *outside* (*inside*), this axis' are drawn\n                outside (inside) the axis lines.\n            ticksuffix\n                Sets a tick label suffix.\n            ticktext\n                Sets the text displayed at the ticks position\n                via `tickvals`. Only has an effect if\n                `tickmode` is set to *array*. Used with\n                `tickvals`.\n            ticktextsrc\n                Sets the source reference on plot.ly for\n                ticktext .\n            tickvals\n                Sets the values at which ticks on this axis\n                appear. Only has an effect if `tickmode` is set\n                to *array*. Used with `ticktext`.\n            tickvalssrc\n                Sets the source reference on plot.ly for\n                tickvals .\n            tickwidth\n                Sets the tick width (in px).\n            title\n                Sets the title of this axis.\n            titlefont\n                Sets this axis' title font.\n            type\n                Sets the axis type. By default, plotly attempts\n                to determined the axis type by looking into the\n                data of the traces that referenced the axis in\n                question.\n            visible\n                A single toggle to hide the axis while\n                preserving interaction like dragging. Default\n                is true when a cheater plot is present on the\n                axis, otherwise false\n            zeroline\n                Determines whether or not a line is drawn at\n                along the 0 value of this axis. If *true*, the\n                zero line is drawn on top of the grid lines.\n            zerolinecolor\n                Sets the line color of the zero line.\n            zerolinewidth\n                Sets the width (in px) of the zero line."
     ]
    }
   ],
   "source": [
    "layout = {'title': 'Scatter Plot', 'xaxis' : range(0, 12), 'yaxis': {'range'}}\n",
    "trace_of_data = {'x': [1.5, 2.5, 3.5, 4.5], 'y': [3, 5, 7, 9], 'marker': {'color': 'blue'}, 'name': 'Our nice line'}\n",
    "\n",
    "figure = {'data': [trace_of_data], 'layout': layout}\n",
    "\n",
    "plotly.offline.iplot(figure)"
   ]
  },
  {
   "cell_type": "markdown",
   "metadata": {},
   "source": [
    "So above we used the `layout` to name our plot's title.  Now that we have used `layout` to specify our chart's title, let's also use it to specify the range of our x axis and y axis.  Previously, we were allowing Plotly to automatically set the range.  We can also adjust the range to meet our specifications."
   ]
  },
  {
   "cell_type": "code",
   "execution_count": null,
   "metadata": {},
   "outputs": [],
   "source": [
    "layout = {'title': 'Scatter Plot', 'xaxis': {'range': [1, 10]}, 'yaxis': {'range': [1, 10]}}\n",
    "trace_of_data = {'x': [1.5, 2.5, 3.5, 4.5], 'y': [3, 5, 7, 9], 'marker': {'color': 'blue'}, 'name': 'Our nice line'}\n",
    "\n",
    "figure = {'data': [trace_of_data], 'layout': layout}\n",
    "\n",
    "plotly.offline.iplot(figure)"
   ]
  },
  {
   "cell_type": "markdown",
   "metadata": {},
   "source": [
    "We can see how adjusting the range changes our perspective of the plotted x and y values."
   ]
  },
  {
   "cell_type": "markdown",
   "metadata": {},
   "source": [
    "### Summary"
   ]
  },
  {
   "cell_type": "markdown",
   "metadata": {},
   "source": [
    "In this section we explored more of Plotly's library to create different data visualizations.  We created different traces to represent our data, with each trace represented as a dictionary passed to our `iplot` method.  We saw how to display multiple traces in a chart by wrapping the traces in a list.  We learned how to use constructors like `graph_objs.Bar` to create a chart. The constructor creates a dictionary that we can pass to our `iplot` method.  Finally, we moved onto modifying the layout of our charts with another python dictionary."
   ]
  }
 ],
 "metadata": {
  "kernelspec": {
   "display_name": "Python 3",
   "language": "python",
   "name": "python3"
  },
  "language_info": {
   "codemirror_mode": {
    "name": "ipython",
    "version": 3
   },
   "file_extension": ".py",
   "mimetype": "text/x-python",
   "name": "python",
   "nbconvert_exporter": "python",
   "pygments_lexer": "ipython3",
   "version": "3.6.4"
  }
 },
 "nbformat": 4,
 "nbformat_minor": 2
}
